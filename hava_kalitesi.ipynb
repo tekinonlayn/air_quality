{
  "nbformat": 4,
  "nbformat_minor": 0,
  "metadata": {
    "colab": {
      "name": "hava_kalitesi.ipynb",
      "provenance": []
    },
    "kernelspec": {
      "name": "python3",
      "display_name": "Python 3"
    }
  },
  "cells": [
    {
      "cell_type": "code",
      "metadata": {
        "id": "DAoKTaGAYBYR",
        "colab_type": "code",
        "colab": {
          "base_uri": "https://localhost:8080/",
          "height": 34
        },
        "outputId": "fdad0531-190d-43e7-836f-e72106ca88de"
      },
      "source": [
        "import pandas as pd\n",
        "import pathlib\n",
        "\n",
        "import matplotlib.pyplot as plt\n",
        "import pandas as pd\n",
        "import seaborn as sns\n",
        "import numpy as np\n",
        "\n",
        "try:\n",
        "  # %tensorflow_version only exists in Colab.\n",
        "  %tensorflow_version 2.x\n",
        "except Exception:\n",
        "  pass\n",
        "import tensorflow as tf\n",
        "\n",
        "from tensorflow import keras\n",
        "from tensorflow.keras import layers\n",
        "\n",
        "print(tf.__version__)\n",
        "\n"
      ],
      "execution_count": 23,
      "outputs": [
        {
          "output_type": "stream",
          "text": [
            "2.3.0\n"
          ],
          "name": "stdout"
        }
      ]
    },
    {
      "cell_type": "code",
      "metadata": {
        "id": "bPnYimdX-yl2",
        "colab_type": "code",
        "colab": {}
      },
      "source": [
        "#!pip install -U turicreate"
      ],
      "execution_count": null,
      "outputs": []
    },
    {
      "cell_type": "code",
      "metadata": {
        "id": "xpn4Bw_t_YmH",
        "colab_type": "code",
        "cellView": "both",
        "colab": {
          "base_uri": "https://localhost:8080/",
          "height": 54
        },
        "outputId": "6e1bdbf7-ad14-41b7-d392-8a2c15329c7c"
      },
      "source": [
        "\"\"\"\n",
        "#@title\n",
        "import turicreate as tc\n",
        "\n",
        "# Load the data\n",
        "data =  tc.SFrame.read_csv('https://raw.githubusercontent.com/apple/turicreate/master/src/python/turicreate/test/mushroom.csv')\n",
        "\n",
        "# Label 'p' is edible\n",
        "data['label'] = data['label'] == 'p'\n",
        "\n",
        "# Make a train-test split\n",
        "train_data, test_data = data.random_split(0.8)\n",
        "\n",
        "# Create a model.\n",
        "model = tc.boosted_trees_regression.create(train_data, target='label',\n",
        "                                           max_iterations=22,\n",
        "                                           max_depth =  5)\n",
        "\n",
        "# Save predictions to an SArray\n",
        "predictions = model.predict(test_data)\n",
        "\n",
        "# Evaluate the model and save the results into a dictionary\n",
        "results = model.evaluate(test_data)\n",
        "\n",
        "data.show()\n",
        "\"\"\""
      ],
      "execution_count": null,
      "outputs": [
        {
          "output_type": "execute_result",
          "data": {
            "text/plain": [
              "\"\\n#@title\\nimport turicreate as tc\\n\\n# Load the data\\ndata =  tc.SFrame.read_csv('https://raw.githubusercontent.com/apple/turicreate/master/src/python/turicreate/test/mushroom.csv')\\n\\n# Label 'p' is edible\\ndata['label'] = data['label'] == 'p'\\n\\n# Make a train-test split\\ntrain_data, test_data = data.random_split(0.8)\\n\\n# Create a model.\\nmodel = tc.boosted_trees_regression.create(train_data, target='label',\\n                                           max_iterations=22,\\n                                           max_depth =  5)\\n\\n# Save predictions to an SArray\\npredictions = model.predict(test_data)\\n\\n# Evaluate the model and save the results into a dictionary\\nresults = model.evaluate(test_data)\\n\\ndata.show()\\n\""
            ]
          },
          "metadata": {
            "tags": []
          },
          "execution_count": 18
        }
      ]
    },
    {
      "cell_type": "code",
      "metadata": {
        "id": "QZ54mojsj6ed",
        "colab_type": "code",
        "colab": {
          "resources": {
            "http://localhost:8080/nbextensions/google.colab/files.js": {
              "data": "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",
              "ok": true,
              "headers": [
                [
                  "content-type",
                  "application/javascript"
                ]
              ],
              "status": 200,
              "status_text": ""
            }
          },
          "base_uri": "https://localhost:8080/",
          "height": 73
        },
        "outputId": "9d175d28-ff42-43d2-b190-ae0d17a0530a"
      },
      "source": [
        "from google.colab import files\n",
        "uploaded = files.upload()\n",
        "\n",
        "import io\n",
        "dataset = pd.read_csv(io.BytesIO(uploaded['hava_csv.csv']))\n",
        "\n"
      ],
      "execution_count": 24,
      "outputs": [
        {
          "output_type": "display_data",
          "data": {
            "text/html": [
              "\n",
              "     <input type=\"file\" id=\"files-6eeff329-5f3a-4d64-ba36-e77c0f62dd6f\" name=\"files[]\" multiple disabled\n",
              "        style=\"border:none\" />\n",
              "     <output id=\"result-6eeff329-5f3a-4d64-ba36-e77c0f62dd6f\">\n",
              "      Upload widget is only available when the cell has been executed in the\n",
              "      current browser session. Please rerun this cell to enable.\n",
              "      </output>\n",
              "      <script src=\"/nbextensions/google.colab/files.js\"></script> "
            ],
            "text/plain": [
              "<IPython.core.display.HTML object>"
            ]
          },
          "metadata": {
            "tags": []
          }
        },
        {
          "output_type": "stream",
          "text": [
            "Saving hava_csv.csv to hava_csv.csv\n"
          ],
          "name": "stdout"
        }
      ]
    },
    {
      "cell_type": "code",
      "metadata": {
        "id": "mWWJZJWql53b",
        "colab_type": "code",
        "colab": {
          "base_uri": "https://localhost:8080/",
          "height": 195
        },
        "outputId": "e6864d5d-0062-4dbf-afba-e423f963de01"
      },
      "source": [
        "dataset.tail()"
      ],
      "execution_count": 25,
      "outputs": [
        {
          "output_type": "execute_result",
          "data": {
            "text/html": [
              "<div>\n",
              "<style scoped>\n",
              "    .dataframe tbody tr th:only-of-type {\n",
              "        vertical-align: middle;\n",
              "    }\n",
              "\n",
              "    .dataframe tbody tr th {\n",
              "        vertical-align: top;\n",
              "    }\n",
              "\n",
              "    .dataframe thead th {\n",
              "        text-align: right;\n",
              "    }\n",
              "</style>\n",
              "<table border=\"1\" class=\"dataframe\">\n",
              "  <thead>\n",
              "    <tr style=\"text-align: right;\">\n",
              "      <th></th>\n",
              "      <th>PM10</th>\n",
              "      <th>SO2</th>\n",
              "      <th>NO</th>\n",
              "      <th>NO2</th>\n",
              "      <th>NOX</th>\n",
              "      <th>O3</th>\n",
              "      <th>ISI</th>\n",
              "      <th>RUZGAR</th>\n",
              "      <th>NEM</th>\n",
              "      <th>BASINC</th>\n",
              "    </tr>\n",
              "  </thead>\n",
              "  <tbody>\n",
              "    <tr>\n",
              "      <th>145</th>\n",
              "      <td>85.71</td>\n",
              "      <td>14.63</td>\n",
              "      <td>3.50</td>\n",
              "      <td>23.75</td>\n",
              "      <td>27.08</td>\n",
              "      <td>51.58</td>\n",
              "      <td>13.1</td>\n",
              "      <td>3.17</td>\n",
              "      <td>37.2</td>\n",
              "      <td>969.63</td>\n",
              "    </tr>\n",
              "    <tr>\n",
              "      <th>146</th>\n",
              "      <td>101.46</td>\n",
              "      <td>13.71</td>\n",
              "      <td>2.75</td>\n",
              "      <td>24.58</td>\n",
              "      <td>27.25</td>\n",
              "      <td>44.21</td>\n",
              "      <td>10.0</td>\n",
              "      <td>2.88</td>\n",
              "      <td>52.7</td>\n",
              "      <td>937.00</td>\n",
              "    </tr>\n",
              "    <tr>\n",
              "      <th>147</th>\n",
              "      <td>74.25</td>\n",
              "      <td>15.38</td>\n",
              "      <td>5.96</td>\n",
              "      <td>28.96</td>\n",
              "      <td>34.83</td>\n",
              "      <td>33.79</td>\n",
              "      <td>9.1</td>\n",
              "      <td>2.67</td>\n",
              "      <td>55.5</td>\n",
              "      <td>921.29</td>\n",
              "    </tr>\n",
              "    <tr>\n",
              "      <th>148</th>\n",
              "      <td>76.50</td>\n",
              "      <td>15.13</td>\n",
              "      <td>4.33</td>\n",
              "      <td>26.46</td>\n",
              "      <td>30.75</td>\n",
              "      <td>36.96</td>\n",
              "      <td>11.5</td>\n",
              "      <td>2.58</td>\n",
              "      <td>36.6</td>\n",
              "      <td>935.67</td>\n",
              "    </tr>\n",
              "    <tr>\n",
              "      <th>149</th>\n",
              "      <td>112.96</td>\n",
              "      <td>17.00</td>\n",
              "      <td>5.25</td>\n",
              "      <td>33.79</td>\n",
              "      <td>39.04</td>\n",
              "      <td>29.96</td>\n",
              "      <td>11.4</td>\n",
              "      <td>1.96</td>\n",
              "      <td>41.5</td>\n",
              "      <td>934.71</td>\n",
              "    </tr>\n",
              "  </tbody>\n",
              "</table>\n",
              "</div>"
            ],
            "text/plain": [
              "       PM10    SO2    NO    NO2    NOX     O3   ISI  RUZGAR   NEM  BASINC\n",
              "145   85.71  14.63  3.50  23.75  27.08  51.58  13.1    3.17  37.2  969.63\n",
              "146  101.46  13.71  2.75  24.58  27.25  44.21  10.0    2.88  52.7  937.00\n",
              "147   74.25  15.38  5.96  28.96  34.83  33.79   9.1    2.67  55.5  921.29\n",
              "148   76.50  15.13  4.33  26.46  30.75  36.96  11.5    2.58  36.6  935.67\n",
              "149  112.96  17.00  5.25  33.79  39.04  29.96  11.4    1.96  41.5  934.71"
            ]
          },
          "metadata": {
            "tags": []
          },
          "execution_count": 25
        }
      ]
    },
    {
      "cell_type": "code",
      "metadata": {
        "id": "IdY6rw9jmYDH",
        "colab_type": "code",
        "colab": {
          "base_uri": "https://localhost:8080/",
          "height": 202
        },
        "outputId": "dfc003a2-b11a-4ddf-9e6d-6d4b8e8f83c8"
      },
      "source": [
        "dataset.isna().sum()"
      ],
      "execution_count": 4,
      "outputs": [
        {
          "output_type": "execute_result",
          "data": {
            "text/plain": [
              "PM10      0\n",
              "SO2       0\n",
              "NO        0\n",
              "NO2       0\n",
              "NOX       0\n",
              "O3        0\n",
              "ISI       0\n",
              "RUZGAR    0\n",
              "NEM       0\n",
              "BASINC    0\n",
              "dtype: int64"
            ]
          },
          "metadata": {
            "tags": []
          },
          "execution_count": 4
        }
      ]
    },
    {
      "cell_type": "code",
      "metadata": {
        "id": "L2bNtqkg-5ig",
        "colab_type": "code",
        "colab": {
          "base_uri": "https://localhost:8080/",
          "height": 54
        },
        "outputId": "6ebde062-aa30-499c-9593-46d8d61e3e3b"
      },
      "source": [
        "\"\"\"\n",
        "# PCA 1\n",
        "data_stats = dataset.describe()\n",
        "data_stats.pop(\"PM10\")\n",
        "data_stats = data_stats.transpose()\n",
        "\n",
        "pca_dataset_label = dataset.pop('PM10')\n",
        "print(\"dataset\", dataset)\n",
        "print(\"labels\", pca_dataset_label)\n",
        "\n",
        "def norm(x):\n",
        "  return (x - data_stats['mean']) / data_stats['std']\n",
        "normed_pca_dataset = norm(dataset)\n",
        "\n",
        "normed_pca_dataset\n",
        "\"\"\""
      ],
      "execution_count": null,
      "outputs": [
        {
          "output_type": "execute_result",
          "data": {
            "text/plain": [
              "'\\n# PCA 1\\ndata_stats = dataset.describe()\\ndata_stats.pop(\"PM10\")\\ndata_stats = data_stats.transpose()\\n\\npca_dataset_label = dataset.pop(\\'PM10\\')\\nprint(\"dataset\", dataset)\\nprint(\"labels\", pca_dataset_label)\\n\\ndef norm(x):\\n  return (x - data_stats[\\'mean\\']) / data_stats[\\'std\\']\\nnormed_pca_dataset = norm(dataset)\\n\\nnormed_pca_dataset\\n'"
            ]
          },
          "metadata": {
            "tags": []
          },
          "execution_count": 22
        }
      ]
    },
    {
      "cell_type": "code",
      "metadata": {
        "id": "lDjECSpnHmLY",
        "colab_type": "code",
        "colab": {
          "base_uri": "https://localhost:8080/",
          "height": 54
        },
        "outputId": "a48a042e-8121-4595-f22b-4d413f39912d"
      },
      "source": [
        "\"\"\"\n",
        "# PCA 2\n",
        "from sklearn.decomposition import PCA\n",
        "pca = PCA(n_components=2)\n",
        "principalComponents = pca.fit_transform(normed_pca_dataset)\n",
        "principalDf = pd.DataFrame(data = principalComponents, \\\n",
        "                           columns = ['pc1', 'pc2'])\n",
        "\n",
        "pca_final = pd.concat([principalDf, pca_dataset_label], axis = 1)\n",
        "\"\"\""
      ],
      "execution_count": null,
      "outputs": [
        {
          "output_type": "execute_result",
          "data": {
            "text/plain": [
              "\"\\n# PCA 2\\nfrom sklearn.decomposition import PCA\\npca = PCA(n_components=2)\\nprincipalComponents = pca.fit_transform(normed_pca_dataset)\\nprincipalDf = pd.DataFrame(data = principalComponents,                            columns = ['pc1', 'pc2'])\\n\\npca_final = pd.concat([principalDf, pca_dataset_label], axis = 1)\\n\""
            ]
          },
          "metadata": {
            "tags": []
          },
          "execution_count": 23
        }
      ]
    },
    {
      "cell_type": "code",
      "metadata": {
        "id": "4SexDjizKupI",
        "colab_type": "code",
        "colab": {
          "base_uri": "https://localhost:8080/",
          "height": 34
        },
        "outputId": "f7131c7c-5b7b-426a-865a-e6d114893322"
      },
      "source": [
        "\"\"\"\n",
        "# PCA 3\n",
        "dataset = pca_final\n",
        "\"\"\""
      ],
      "execution_count": null,
      "outputs": [
        {
          "output_type": "execute_result",
          "data": {
            "text/plain": [
              "'\\n# PCA 3\\ndataset = pca_final\\n'"
            ]
          },
          "metadata": {
            "tags": []
          },
          "execution_count": 24
        }
      ]
    },
    {
      "cell_type": "code",
      "metadata": {
        "id": "PPykSCY0nDJ5",
        "colab_type": "code",
        "colab": {
          "base_uri": "https://localhost:8080/",
          "height": 34
        },
        "outputId": "cde6c235-9a43-492d-a1f0-f068e6f2e49c"
      },
      "source": [
        "train_dataset = dataset.sample(frac=0.8,random_state=0)\n",
        "test_dataset = dataset.drop(train_dataset.index)\n",
        "print(train_dataset.shape, \" \", test_dataset.shape)\n"
      ],
      "execution_count": 26,
      "outputs": [
        {
          "output_type": "stream",
          "text": [
            "(120, 10)   (30, 10)\n"
          ],
          "name": "stdout"
        }
      ]
    },
    {
      "cell_type": "code",
      "metadata": {
        "id": "O-v6qjXzEItu",
        "colab_type": "code",
        "colab": {}
      },
      "source": [
        "#sns.pairplot(train_dataset[[\"PM10\", \"ISI\", \"RUZGAR\", \"NEM\", \"BASINC\"]], diag_kind=\"kde\")"
      ],
      "execution_count": null,
      "outputs": []
    },
    {
      "cell_type": "code",
      "metadata": {
        "id": "8kg7jg24nZp4",
        "colab_type": "code",
        "colab": {
          "base_uri": "https://localhost:8080/",
          "height": 343
        },
        "outputId": "cbec4aae-2de8-4ac7-9be6-c9273c774469"
      },
      "source": [
        "train_stats = train_dataset.describe()\n",
        "#train_stats.pop(\"PM10\")\n",
        "train_stats = train_stats.transpose()\n",
        "train_stats #[\"mean\"]\n",
        "#print(train_stats[\"mean\"].shape)"
      ],
      "execution_count": 27,
      "outputs": [
        {
          "output_type": "execute_result",
          "data": {
            "text/html": [
              "<div>\n",
              "<style scoped>\n",
              "    .dataframe tbody tr th:only-of-type {\n",
              "        vertical-align: middle;\n",
              "    }\n",
              "\n",
              "    .dataframe tbody tr th {\n",
              "        vertical-align: top;\n",
              "    }\n",
              "\n",
              "    .dataframe thead th {\n",
              "        text-align: right;\n",
              "    }\n",
              "</style>\n",
              "<table border=\"1\" class=\"dataframe\">\n",
              "  <thead>\n",
              "    <tr style=\"text-align: right;\">\n",
              "      <th></th>\n",
              "      <th>count</th>\n",
              "      <th>mean</th>\n",
              "      <th>std</th>\n",
              "      <th>min</th>\n",
              "      <th>25%</th>\n",
              "      <th>50%</th>\n",
              "      <th>75%</th>\n",
              "      <th>max</th>\n",
              "    </tr>\n",
              "  </thead>\n",
              "  <tbody>\n",
              "    <tr>\n",
              "      <th>PM10</th>\n",
              "      <td>120.0</td>\n",
              "      <td>180.204250</td>\n",
              "      <td>92.358937</td>\n",
              "      <td>43.71</td>\n",
              "      <td>112.1050</td>\n",
              "      <td>154.525</td>\n",
              "      <td>250.7625</td>\n",
              "      <td>468.96</td>\n",
              "    </tr>\n",
              "    <tr>\n",
              "      <th>SO2</th>\n",
              "      <td>120.0</td>\n",
              "      <td>33.028667</td>\n",
              "      <td>43.001415</td>\n",
              "      <td>2.38</td>\n",
              "      <td>11.6775</td>\n",
              "      <td>18.460</td>\n",
              "      <td>29.8225</td>\n",
              "      <td>167.54</td>\n",
              "    </tr>\n",
              "    <tr>\n",
              "      <th>NO</th>\n",
              "      <td>120.0</td>\n",
              "      <td>16.532167</td>\n",
              "      <td>15.307382</td>\n",
              "      <td>1.71</td>\n",
              "      <td>5.9500</td>\n",
              "      <td>10.210</td>\n",
              "      <td>22.9000</td>\n",
              "      <td>73.13</td>\n",
              "    </tr>\n",
              "    <tr>\n",
              "      <th>NO2</th>\n",
              "      <td>120.0</td>\n",
              "      <td>41.808667</td>\n",
              "      <td>14.616318</td>\n",
              "      <td>6.04</td>\n",
              "      <td>30.7850</td>\n",
              "      <td>39.500</td>\n",
              "      <td>50.4500</td>\n",
              "      <td>83.96</td>\n",
              "    </tr>\n",
              "    <tr>\n",
              "      <th>NOX</th>\n",
              "      <td>120.0</td>\n",
              "      <td>58.535000</td>\n",
              "      <td>19.662024</td>\n",
              "      <td>22.25</td>\n",
              "      <td>44.3475</td>\n",
              "      <td>57.880</td>\n",
              "      <td>69.9875</td>\n",
              "      <td>123.00</td>\n",
              "    </tr>\n",
              "    <tr>\n",
              "      <th>O3</th>\n",
              "      <td>120.0</td>\n",
              "      <td>32.316167</td>\n",
              "      <td>14.581395</td>\n",
              "      <td>2.00</td>\n",
              "      <td>21.4425</td>\n",
              "      <td>32.830</td>\n",
              "      <td>42.8000</td>\n",
              "      <td>67.42</td>\n",
              "    </tr>\n",
              "    <tr>\n",
              "      <th>ISI</th>\n",
              "      <td>120.0</td>\n",
              "      <td>0.159167</td>\n",
              "      <td>7.276259</td>\n",
              "      <td>-11.80</td>\n",
              "      <td>-6.8250</td>\n",
              "      <td>0.400</td>\n",
              "      <td>6.7500</td>\n",
              "      <td>11.90</td>\n",
              "    </tr>\n",
              "    <tr>\n",
              "      <th>RUZGAR</th>\n",
              "      <td>120.0</td>\n",
              "      <td>1.701250</td>\n",
              "      <td>0.706337</td>\n",
              "      <td>0.92</td>\n",
              "      <td>1.2400</td>\n",
              "      <td>1.440</td>\n",
              "      <td>1.9600</td>\n",
              "      <td>5.04</td>\n",
              "    </tr>\n",
              "    <tr>\n",
              "      <th>NEM</th>\n",
              "      <td>120.0</td>\n",
              "      <td>61.831583</td>\n",
              "      <td>25.096034</td>\n",
              "      <td>14.54</td>\n",
              "      <td>47.2500</td>\n",
              "      <td>71.600</td>\n",
              "      <td>79.7500</td>\n",
              "      <td>98.50</td>\n",
              "    </tr>\n",
              "    <tr>\n",
              "      <th>BASINC</th>\n",
              "      <td>120.0</td>\n",
              "      <td>952.852000</td>\n",
              "      <td>24.243316</td>\n",
              "      <td>889.08</td>\n",
              "      <td>936.3550</td>\n",
              "      <td>952.710</td>\n",
              "      <td>968.6775</td>\n",
              "      <td>1004.63</td>\n",
              "    </tr>\n",
              "  </tbody>\n",
              "</table>\n",
              "</div>"
            ],
            "text/plain": [
              "        count        mean        std  ...      50%       75%      max\n",
              "PM10    120.0  180.204250  92.358937  ...  154.525  250.7625   468.96\n",
              "SO2     120.0   33.028667  43.001415  ...   18.460   29.8225   167.54\n",
              "NO      120.0   16.532167  15.307382  ...   10.210   22.9000    73.13\n",
              "NO2     120.0   41.808667  14.616318  ...   39.500   50.4500    83.96\n",
              "NOX     120.0   58.535000  19.662024  ...   57.880   69.9875   123.00\n",
              "O3      120.0   32.316167  14.581395  ...   32.830   42.8000    67.42\n",
              "ISI     120.0    0.159167   7.276259  ...    0.400    6.7500    11.90\n",
              "RUZGAR  120.0    1.701250   0.706337  ...    1.440    1.9600     5.04\n",
              "NEM     120.0   61.831583  25.096034  ...   71.600   79.7500    98.50\n",
              "BASINC  120.0  952.852000  24.243316  ...  952.710  968.6775  1004.63\n",
              "\n",
              "[10 rows x 8 columns]"
            ]
          },
          "metadata": {
            "tags": []
          },
          "execution_count": 27
        }
      ]
    },
    {
      "cell_type": "code",
      "metadata": {
        "id": "x2HQ_xC5nnw2",
        "colab_type": "code",
        "colab": {}
      },
      "source": [
        "train_labels = train_dataset.pop('PM10')\n",
        "test_labels = test_dataset.pop('PM10')"
      ],
      "execution_count": 8,
      "outputs": []
    },
    {
      "cell_type": "code",
      "metadata": {
        "id": "0-6LRfg5_iuk",
        "colab_type": "code",
        "colab": {
          "base_uri": "https://localhost:8080/",
          "height": 52
        },
        "outputId": "3d4deda0-0989-4e50-d0a6-630794197532"
      },
      "source": [
        "def norm(x):\n",
        "  return (x - train_stats['mean']) / train_stats['std']\n",
        "\n",
        "normed_train_data = norm(train_dataset)\n",
        "normed_test_data = norm(test_dataset)\n",
        "\n",
        "y = np.linspace(1, len(normed_train_data[\"SO2\"]), 120)\n",
        "print(y)\n",
        "print(normed_train_data.describe())\n",
        "print(len(normed_train_data[\"SO2\"]))\n",
        "plt.scatter(y, normed_train_data[\"NEM\"])\n"
      ],
      "execution_count": 3,
      "outputs": [
        {
          "output_type": "execute_result",
          "data": {
            "application/vnd.google.colaboratory.intrinsic+json": {
              "type": "string"
            },
            "text/plain": [
              "'\\nnormed_train_data = norm(train_dataset)\\nnormed_test_data = norm(test_dataset)\\n\\ny = np.linspace(1, len(normed_train_data[\"SO2\"]), 120)\\nprint(y)\\nprint(normed_train_data.describe())\\nprint(len(normed_train_data[\"SO2\"]))\\nplt.scatter(y, normed_train_data[\"NEM\"])\\n'"
            ]
          },
          "metadata": {
            "tags": []
          },
          "execution_count": 3
        }
      ]
    },
    {
      "cell_type": "code",
      "metadata": {
        "id": "zwZ01YpgkcQ6",
        "colab_type": "code",
        "colab": {
          "base_uri": "https://localhost:8080/",
          "height": 84
        },
        "outputId": "6b0fbbc6-2dc3-415d-c27c-9813eaf425e2"
      },
      "source": [
        "\"\"\"\n",
        "egi = np.array((2,3,4,5))\n",
        "tes = np.array((3,5,8,4))\n",
        "topl = np.array((2,3,3,4,4,5,5,8))\n",
        "topl\n",
        "import math\n",
        "\n",
        "mean1 = np.mean(egi)\n",
        "std1 = np.std(egi)\n",
        "\n",
        "def nor(x):\n",
        "  return (x - mean1) / std1\n",
        "egi_nor = nor(egi)\n",
        "tes_nor = nor(tes)\n",
        "\n",
        "print(egi_nor)\n",
        "print(tes_nor)\n",
        "\n",
        "mean2 = np.mean(topl)\n",
        "std2 = np.std(topl)\n",
        "\n",
        "def nor2(x):\n",
        "  return (x - mean2) / std2\n",
        "\n",
        "top_nor = nor2(topl)\n",
        "\n",
        "print(top_nor)\n",
        "\"\"\"\n"
      ],
      "execution_count": 21,
      "outputs": [
        {
          "output_type": "stream",
          "text": [
            "[-1.34164079 -0.4472136   0.4472136   1.34164079]\n",
            "[-0.4472136   1.34164079  4.02492236  0.4472136 ]\n",
            "[-1.31278492 -0.72932496 -0.72932496 -0.14586499 -0.14586499  0.43759497\n",
            "  0.43759497  2.18797487]\n"
          ],
          "name": "stdout"
        }
      ]
    },
    {
      "cell_type": "code",
      "metadata": {
        "id": "exrwrQMg27Mm",
        "colab_type": "code",
        "colab": {}
      },
      "source": [
        "from keras import backend\n",
        " \n",
        "def rmse(y_true, y_pred):\n",
        "\treturn backend.sqrt(backend.mean(backend.square(y_pred - y_true), axis=-1))"
      ],
      "execution_count": 30,
      "outputs": []
    },
    {
      "cell_type": "code",
      "metadata": {
        "id": "pucQNmFmny6y",
        "colab_type": "code",
        "colab": {}
      },
      "source": [
        "def build_model():\n",
        "  model = keras.Sequential([\n",
        "    layers.Dense(32, activation='relu', input_shape=[len(train_dataset.keys())]),\n",
        "    layers.Dense(32, activation='relu'),\n",
        "    layers.Dense(1)\n",
        "  ])\n",
        "\n",
        "  optimizer = tf.keras.optimizers.RMSprop(0.001)\n",
        "\n",
        "  model.compile(loss='mse',\n",
        "                optimizer=optimizer,\n",
        "                metrics=[rmse])\n",
        "  return model"
      ],
      "execution_count": 38,
      "outputs": []
    },
    {
      "cell_type": "code",
      "metadata": {
        "id": "xZSUUcTcoBv4",
        "colab_type": "code",
        "colab": {}
      },
      "source": [
        "model = build_model()"
      ],
      "execution_count": 39,
      "outputs": []
    },
    {
      "cell_type": "code",
      "metadata": {
        "id": "APY209gnoEju",
        "colab_type": "code",
        "colab": {
          "base_uri": "https://localhost:8080/",
          "height": 252
        },
        "outputId": "bc196bd7-b92a-4e80-d8ea-15b1c1dd6287"
      },
      "source": [
        "model.summary()"
      ],
      "execution_count": 40,
      "outputs": [
        {
          "output_type": "stream",
          "text": [
            "Model: \"sequential_4\"\n",
            "_________________________________________________________________\n",
            "Layer (type)                 Output Shape              Param #   \n",
            "=================================================================\n",
            "dense_12 (Dense)             (None, 32)                320       \n",
            "_________________________________________________________________\n",
            "dense_13 (Dense)             (None, 32)                1056      \n",
            "_________________________________________________________________\n",
            "dense_14 (Dense)             (None, 1)                 33        \n",
            "=================================================================\n",
            "Total params: 1,409\n",
            "Trainable params: 1,409\n",
            "Non-trainable params: 0\n",
            "_________________________________________________________________\n"
          ],
          "name": "stdout"
        }
      ]
    },
    {
      "cell_type": "code",
      "metadata": {
        "id": "HF6844Nsz8Iu",
        "colab_type": "code",
        "colab": {}
      },
      "source": [
        ""
      ],
      "execution_count": null,
      "outputs": []
    },
    {
      "cell_type": "code",
      "metadata": {
        "id": "HV4SKYLtz7zk",
        "colab_type": "code",
        "colab": {}
      },
      "source": [
        ""
      ],
      "execution_count": null,
      "outputs": []
    },
    {
      "cell_type": "code",
      "metadata": {
        "id": "wwOL5GMBoPPY",
        "colab_type": "code",
        "colab": {
          "base_uri": "https://localhost:8080/",
          "height": 185
        },
        "outputId": "b135d0ac-1bcf-4253-cf92-5f50f7f187a0"
      },
      "source": [
        "example_batch = normed_train_data[:10]\n",
        "example_result = model.predict(example_batch)\n",
        "example_result\n",
        "#normed_train_data"
      ],
      "execution_count": 36,
      "outputs": [
        {
          "output_type": "execute_result",
          "data": {
            "text/plain": [
              "array([[ 0.01076251],\n",
              "       [ 0.01871742],\n",
              "       [-0.07797258],\n",
              "       [ 0.01404462],\n",
              "       [ 0.33424515],\n",
              "       [-0.02267301],\n",
              "       [ 0.08681382],\n",
              "       [-0.41391033],\n",
              "       [-0.15208359],\n",
              "       [-0.16721165]], dtype=float32)"
            ]
          },
          "metadata": {
            "tags": []
          },
          "execution_count": 36
        }
      ]
    },
    {
      "cell_type": "code",
      "metadata": {
        "id": "yFI8mFl2oydY",
        "colab_type": "code",
        "colab": {
          "base_uri": "https://localhost:8080/",
          "height": 370
        },
        "outputId": "8e7fd2ee-7e34-4327-f020-12bb1ca7f817"
      },
      "source": [
        "class PrintDot(keras.callbacks.Callback):\n",
        "  def on_epoch_end(self, epoch, logs):\n",
        "    if epoch % 100 == 0: print('')\n",
        "    print('.', end='')\n",
        "\n",
        "EPOCHS = 2000\n",
        "\n",
        "history = model.fit(\n",
        "  normed_train_data, train_labels,\n",
        "  epochs=EPOCHS, validation_split = 0.2, verbose=0,\n",
        "  callbacks=[PrintDot()])"
      ],
      "execution_count": 41,
      "outputs": [
        {
          "output_type": "stream",
          "text": [
            "\n",
            "....................................................................................................\n",
            "....................................................................................................\n",
            "....................................................................................................\n",
            "....................................................................................................\n",
            "....................................................................................................\n",
            "....................................................................................................\n",
            "....................................................................................................\n",
            "....................................................................................................\n",
            "....................................................................................................\n",
            "....................................................................................................\n",
            "....................................................................................................\n",
            "....................................................................................................\n",
            "....................................................................................................\n",
            "....................................................................................................\n",
            "....................................................................................................\n",
            "....................................................................................................\n",
            "....................................................................................................\n",
            "....................................................................................................\n",
            "....................................................................................................\n",
            "...................................................................................................."
          ],
          "name": "stdout"
        }
      ]
    },
    {
      "cell_type": "code",
      "metadata": {
        "id": "8-EIeed9o_Vy",
        "colab_type": "code",
        "colab": {
          "base_uri": "https://localhost:8080/",
          "height": 195
        },
        "outputId": "5081cde8-122a-4a84-f0a6-b705dbd27c6a"
      },
      "source": [
        "hist = pd.DataFrame(history.history)\n",
        "hist['epoch'] = history.epoch\n",
        "hist.tail()"
      ],
      "execution_count": 42,
      "outputs": [
        {
          "output_type": "execute_result",
          "data": {
            "text/html": [
              "<div>\n",
              "<style scoped>\n",
              "    .dataframe tbody tr th:only-of-type {\n",
              "        vertical-align: middle;\n",
              "    }\n",
              "\n",
              "    .dataframe tbody tr th {\n",
              "        vertical-align: top;\n",
              "    }\n",
              "\n",
              "    .dataframe thead th {\n",
              "        text-align: right;\n",
              "    }\n",
              "</style>\n",
              "<table border=\"1\" class=\"dataframe\">\n",
              "  <thead>\n",
              "    <tr style=\"text-align: right;\">\n",
              "      <th></th>\n",
              "      <th>loss</th>\n",
              "      <th>rmse</th>\n",
              "      <th>val_loss</th>\n",
              "      <th>val_rmse</th>\n",
              "      <th>epoch</th>\n",
              "    </tr>\n",
              "  </thead>\n",
              "  <tbody>\n",
              "    <tr>\n",
              "      <th>1995</th>\n",
              "      <td>523.562439</td>\n",
              "      <td>16.065554</td>\n",
              "      <td>1978.598999</td>\n",
              "      <td>35.282913</td>\n",
              "      <td>1995</td>\n",
              "    </tr>\n",
              "    <tr>\n",
              "      <th>1996</th>\n",
              "      <td>516.476257</td>\n",
              "      <td>15.736111</td>\n",
              "      <td>1956.309082</td>\n",
              "      <td>35.091564</td>\n",
              "      <td>1996</td>\n",
              "    </tr>\n",
              "    <tr>\n",
              "      <th>1997</th>\n",
              "      <td>517.485168</td>\n",
              "      <td>15.801674</td>\n",
              "      <td>1955.627319</td>\n",
              "      <td>35.113518</td>\n",
              "      <td>1997</td>\n",
              "    </tr>\n",
              "    <tr>\n",
              "      <th>1998</th>\n",
              "      <td>523.445618</td>\n",
              "      <td>15.899348</td>\n",
              "      <td>1950.962524</td>\n",
              "      <td>35.036789</td>\n",
              "      <td>1998</td>\n",
              "    </tr>\n",
              "    <tr>\n",
              "      <th>1999</th>\n",
              "      <td>514.882141</td>\n",
              "      <td>15.817540</td>\n",
              "      <td>1969.774048</td>\n",
              "      <td>35.204350</td>\n",
              "      <td>1999</td>\n",
              "    </tr>\n",
              "  </tbody>\n",
              "</table>\n",
              "</div>"
            ],
            "text/plain": [
              "            loss       rmse     val_loss   val_rmse  epoch\n",
              "1995  523.562439  16.065554  1978.598999  35.282913   1995\n",
              "1996  516.476257  15.736111  1956.309082  35.091564   1996\n",
              "1997  517.485168  15.801674  1955.627319  35.113518   1997\n",
              "1998  523.445618  15.899348  1950.962524  35.036789   1998\n",
              "1999  514.882141  15.817540  1969.774048  35.204350   1999"
            ]
          },
          "metadata": {
            "tags": []
          },
          "execution_count": 42
        }
      ]
    },
    {
      "cell_type": "code",
      "metadata": {
        "id": "gHX2iU9LpF31",
        "colab_type": "code",
        "colab": {
          "base_uri": "https://localhost:8080/",
          "height": 283
        },
        "outputId": "8c4b52ab-5871-4c89-d423-18da3606057f"
      },
      "source": [
        "def plot_history(history):\n",
        "  hist = pd.DataFrame(history.history)\n",
        "  hist['epoch'] = history.epoch\n",
        "\n",
        "  plt.figure()\n",
        "  plt.xlabel('Epoch')\n",
        "  plt.ylabel('Mean Abs Error [MPG]')\n",
        "  plt.plot(hist['epoch'], hist['rmse'],\n",
        "           label='Train Error')\n",
        "  plt.plot(hist['epoch'], hist['val_rmse'],\n",
        "           label = 'Val Error')\n",
        "  plt.ylim([0,50])\n",
        "  plt.legend()\n",
        "\"\"\"\n",
        "  plt.figure()\n",
        "  plt.xlabel('Epoch')\n",
        "  plt.ylabel('Mean Square Error [$MPG^2$]')\n",
        "  plt.plot(hist['epoch'], hist['mse'],\n",
        "           label='Train Error')\n",
        "  plt.plot(hist['epoch'], hist['val_mse'],\n",
        "           label = 'Val Error')\n",
        "  plt.ylim([0,100])\n",
        "  plt.legend()\n",
        "  plt.show()\n",
        "\n",
        "\"\"\"\n",
        "plot_history(history)"
      ],
      "execution_count": 44,
      "outputs": [
        {
          "output_type": "display_data",
          "data": {
            "image/png": "[encoded data removed]",
            "text/plain": [
              "<Figure size 432x288 with 1 Axes>"
            ]
          },
          "metadata": {
            "tags": [],
            "needs_background": "light"
          }
        }
      ]
    },
    {
      "cell_type": "code",
      "metadata": {
        "id": "9ti_HS3FpO9F",
        "colab_type": "code",
        "colab": {
          "base_uri": "https://localhost:8080/",
          "height": 384
        },
        "outputId": "aec8a1d3-c05d-432b-f415-1e7726445910"
      },
      "source": [
        "model = build_model()\n",
        "\n",
        "# The patience parameter is the amount of epochs to check for improvement\n",
        "early_stop = keras.callbacks.EarlyStopping(monitor='val_loss', patience=10)\n",
        "\n",
        "history = model.fit(normed_train_data, train_labels, epochs=EPOCHS,\n",
        "                    validation_split = 0.2, verbose=0, callbacks=[early_stop, PrintDot()])\n",
        "\n",
        "plot_history(history)"
      ],
      "execution_count": 45,
      "outputs": [
        {
          "output_type": "stream",
          "text": [
            "\n",
            "....................................................................................................\n",
            "....................................................................................................\n",
            "....................................................................................................\n",
            "....................................................................................................\n",
            "......................................................"
          ],
          "name": "stdout"
        },
        {
          "output_type": "display_data",
          "data": {
            "image/png": "[encoded data removed]",
            "text/plain": [
              "<Figure size 432x288 with 1 Axes>"
            ]
          },
          "metadata": {
            "tags": [],
            "needs_background": "light"
          }
        }
      ]
    },
    {
      "cell_type": "code",
      "metadata": {
        "id": "cc3fAkumq3qk",
        "colab_type": "code",
        "colab": {
          "base_uri": "https://localhost:8080/",
          "height": 50
        },
        "outputId": "1f8f278a-5211-4b97-f3c4-e42bdd0ff34c"
      },
      "source": [
        "loss, rmse = model.evaluate(normed_test_data, test_labels, verbose=2)\n",
        "\n",
        "print(\"Testing set Mean Abs Error: {:5.2f} PM10\".format(rmse))"
      ],
      "execution_count": 50,
      "outputs": [
        {
          "output_type": "stream",
          "text": [
            "1/1 - 0s - loss: 1404.0243 - rmse: 27.8994\n",
            "Testing set Mean Abs Error: 27.90 PM10\n"
          ],
          "name": "stdout"
        }
      ]
    },
    {
      "cell_type": "code",
      "metadata": {
        "id": "I1p_sErzkVMY",
        "colab_type": "code",
        "colab": {}
      },
      "source": [
        ""
      ],
      "execution_count": null,
      "outputs": []
    },
    {
      "cell_type": "code",
      "metadata": {
        "id": "wKCe4FnHrQzu",
        "colab_type": "code",
        "colab": {
          "base_uri": "https://localhost:8080/",
          "height": 334
        },
        "outputId": "80c06798-50a6-44a4-c1b2-91f5eb25433d"
      },
      "source": [
        "test_predictions = model.predict(normed_test_data).flatten()\n",
        "\n",
        "a = plt.axes(aspect='equal')\n",
        "plt.scatter(test_labels, test_predictions)\n",
        "plt.xlabel('True Values [PM10]')\n",
        "plt.ylabel('Predictions [PM10]')\n",
        "lims = [0, 400]\n",
        "plt.xlim(lims)\n",
        "plt.ylim(lims)\n",
        "_ = plt.plot(lims, lims)\n",
        "\n",
        "import numpy as np\n",
        "from sklearn.metrics import r2_score\n",
        "print(\"Correlation: \", np.corrcoef(test_labels, test_predictions))\n",
        "\n",
        "print(\"R square (R^2): %f\" % sklearn.metrics.r2_score(test_labels, test_predictions))\n",
        "\n",
        "#normed_test_data.tail()"
      ],
      "execution_count": 53,
      "outputs": [
        {
          "output_type": "stream",
          "text": [
            "Correlation:  [[1.         0.94597499]\n",
            " [0.94597499 1.        ]]\n",
            "R square (R^2): 0.881677\n"
          ],
          "name": "stdout"
        },
        {
          "output_type": "display_data",
          "data": {
            "image/png": "[encoded data removed]",
            "text/plain": [
              "<Figure size 432x288 with 1 Axes>"
            ]
          },
          "metadata": {
            "tags": [],
            "needs_background": "light"
          }
        }
      ]
    },
    {
      "cell_type": "code",
      "metadata": {
        "id": "KdtCBqVVjBZU",
        "colab_type": "code",
        "colab": {
          "base_uri": "https://localhost:8080/",
          "height": 313
        },
        "outputId": "4152f99e-c372-423f-c02b-ce2bc9a15180"
      },
      "source": [
        "plt.plot(test_labels.values, \"r\")\n",
        "plt.plot(test_predictions,\"b\")\n",
        "plt.xlabel('Test examples')\n",
        "plt.ylabel('PM10 Values')\n",
        "plt.legend([\"True Values\",\"Predicted Values\"])\n",
        "plt.figure(figsize=(100,80), dpi=300)\n"
      ],
      "execution_count": 49,
      "outputs": [
        {
          "output_type": "execute_result",
          "data": {
            "text/plain": [
              "<Figure size 30000x24000 with 0 Axes>"
            ]
          },
          "metadata": {
            "tags": []
          },
          "execution_count": 49
        },
        {
          "output_type": "display_data",
          "data": {
            "image/png": "[encoded data removed]",
            "text/plain": [
              "<Figure size 432x288 with 1 Axes>"
            ]
          },
          "metadata": {
            "tags": [],
            "needs_background": "light"
          }
        },
        {
          "output_type": "display_data",
          "data": {
            "text/plain": [
              "<Figure size 30000x24000 with 0 Axes>"
            ]
          },
          "metadata": {
            "tags": []
          }
        }
      ]
    },
    {
      "cell_type": "code",
      "metadata": {
        "id": "S-PozLxjmXKD",
        "colab_type": "code",
        "colab": {
          "base_uri": "https://localhost:8080/",
          "height": 84
        },
        "outputId": "b36fbe9b-67a4-4ab8-e2a3-0eac9f9759a7"
      },
      "source": [
        "test_labels.values"
      ],
      "execution_count": null,
      "outputs": [
        {
          "output_type": "execute_result",
          "data": {
            "text/plain": [
              "array([131.54, 247.13, 226.67,  45.08, 188.  , 259.83,  91.79, 306.58,\n",
              "       437.33, 455.13, 260.92, 115.  , 252.13,  97.33, 184.  , 278.79,\n",
              "       303.42, 241.96,  43.  ,  70.38, 299.71,  61.  , 137.33, 175.75,\n",
              "       250.46,  86.92,  81.92,  93.63, 104.33,  85.71])"
            ]
          },
          "metadata": {
            "tags": []
          },
          "execution_count": 86
        }
      ]
    },
    {
      "cell_type": "code",
      "metadata": {
        "id": "tfsdwvL2m6D5",
        "colab_type": "code",
        "colab": {
          "base_uri": "https://localhost:8080/",
          "height": 134
        },
        "outputId": "34723e82-cf2b-4230-d9b1-cdfd3c969348"
      },
      "source": [
        "test_predictions.shape"
      ],
      "execution_count": null,
      "outputs": [
        {
          "output_type": "execute_result",
          "data": {
            "text/plain": [
              "array([207.09206 , 221.72774 , 199.26799 , 117.6965  , 181.52486 ,\n",
              "       191.68317 ,  88.88197 , 262.0292  , 448.1017  , 348.01547 ,\n",
              "       245.20631 , 133.59688 , 203.06514 , 130.94617 , 165.99065 ,\n",
              "       278.3673  , 253.95763 , 225.81541 , 101.99556 ,  75.20355 ,\n",
              "       309.3977  ,  91.062744, 146.00789 , 177.68687 , 260.7016  ,\n",
              "       105.58183 , 100.3237  ,  71.46647 ,  74.063034,  77.324524],\n",
              "      dtype=float32)"
            ]
          },
          "metadata": {
            "tags": []
          },
          "execution_count": 87
        }
      ]
    },
    {
      "cell_type": "code",
      "metadata": {
        "id": "cfbD_bn0re25",
        "colab_type": "code",
        "colab": {
          "base_uri": "https://localhost:8080/",
          "height": 279
        },
        "outputId": "9a3e1c0b-2df5-4cda-a557-0027bc56c4e1"
      },
      "source": [
        "error = test_predictions - test_labels\n",
        "plt.hist(error, bins = 25)\n",
        "plt.xlabel(\"Prediction Error [PM10]\")\n",
        "_ = plt.ylabel(\"Count\")"
      ],
      "execution_count": null,
      "outputs": [
        {
          "output_type": "display_data",
          "data": {
            "image/png": "[encoded data removed]",
            "text/plain": [
              "<Figure size 432x288 with 1 Axes>"
            ]
          },
          "metadata": {
            "tags": []
          }
        }
      ]
    }
  ]
}